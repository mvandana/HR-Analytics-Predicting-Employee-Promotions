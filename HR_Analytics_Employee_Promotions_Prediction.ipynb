{
 "cells": [
  {
   "cell_type": "markdown",
   "metadata": {
    "id": "m3c9NXJI824m"
   },
   "source": [
    "**1. Import all relevant packages: In the first cell of the notebook, import all the necessary packages such as pandas, numpy, matplotlib, seaborn, scikit-learn, and any other package that you may need for data preprocessing and model fitting.**"
   ]
  },
  {
   "cell_type": "code",
   "execution_count": 1,
   "metadata": {
    "id": "1tJ2kGRD2Qm9"
   },
   "outputs": [],
   "source": [
    "# Importing necessary libraries\n",
    "import pandas as pd\n",
    "import numpy as np\n",
    "import matplotlib.pyplot as plt\n",
    "import seaborn as sns\n",
    "from sklearn.model_selection import train_test_split, GridSearchCV\n",
    "from sklearn.preprocessing import StandardScaler, OneHotEncoder\n",
    "from sklearn.compose import ColumnTransformer\n",
    "from sklearn.pipeline import Pipeline\n",
    "from sklearn.linear_model import LogisticRegression\n",
    "from sklearn.tree import DecisionTreeClassifier\n",
    "from sklearn.neighbors import KNeighborsClassifier\n",
    "from sklearn.metrics import accuracy_score, precision_score, recall_score, f1_score, confusion_matrix"
   ]
  },
  {
   "cell_type": "markdown",
   "metadata": {
    "id": "xWLHt6vp897H"
   },
   "source": [
    "**2. Reading the dataset.**"
   ]
  },
  {
   "cell_type": "code",
   "execution_count": 3,
   "metadata": {
    "colab": {
     "base_uri": "https://localhost:8080/",
     "height": 278
    },
    "id": "RrfQ_KFh2SRE",
    "outputId": "13b3b259-d6ea-4d29-94a8-8323fa3a15ac"
   },
   "outputs": [
    {
     "data": {
      "text/html": [
       "<div>\n",
       "<style scoped>\n",
       "    .dataframe tbody tr th:only-of-type {\n",
       "        vertical-align: middle;\n",
       "    }\n",
       "\n",
       "    .dataframe tbody tr th {\n",
       "        vertical-align: top;\n",
       "    }\n",
       "\n",
       "    .dataframe thead th {\n",
       "        text-align: right;\n",
       "    }\n",
       "</style>\n",
       "<table border=\"1\" class=\"dataframe\">\n",
       "  <thead>\n",
       "    <tr style=\"text-align: right;\">\n",
       "      <th></th>\n",
       "      <th>employee_id</th>\n",
       "      <th>department</th>\n",
       "      <th>region</th>\n",
       "      <th>education</th>\n",
       "      <th>gender</th>\n",
       "      <th>recruitment_channel</th>\n",
       "      <th>no_of_trainings</th>\n",
       "      <th>age</th>\n",
       "      <th>previous_year_rating</th>\n",
       "      <th>length_of_service</th>\n",
       "      <th>KPIs_met_&gt;80%</th>\n",
       "      <th>awards_won?</th>\n",
       "      <th>avg_training_score</th>\n",
       "      <th>promoted</th>\n",
       "    </tr>\n",
       "  </thead>\n",
       "  <tbody>\n",
       "    <tr>\n",
       "      <th>0</th>\n",
       "      <td>A_1</td>\n",
       "      <td>Sales &amp; Marketing</td>\n",
       "      <td>region_7</td>\n",
       "      <td>Master's &amp; above</td>\n",
       "      <td>f</td>\n",
       "      <td>sourcing</td>\n",
       "      <td>1</td>\n",
       "      <td>35</td>\n",
       "      <td>5</td>\n",
       "      <td>8</td>\n",
       "      <td>1</td>\n",
       "      <td>0</td>\n",
       "      <td>49</td>\n",
       "      <td>0</td>\n",
       "    </tr>\n",
       "    <tr>\n",
       "      <th>1</th>\n",
       "      <td>A_2</td>\n",
       "      <td>Operations</td>\n",
       "      <td>region_22</td>\n",
       "      <td>Bachelor's</td>\n",
       "      <td>m</td>\n",
       "      <td>other</td>\n",
       "      <td>1</td>\n",
       "      <td>30</td>\n",
       "      <td>5</td>\n",
       "      <td>4</td>\n",
       "      <td>0</td>\n",
       "      <td>0</td>\n",
       "      <td>60</td>\n",
       "      <td>0</td>\n",
       "    </tr>\n",
       "    <tr>\n",
       "      <th>2</th>\n",
       "      <td>A_3</td>\n",
       "      <td>Sales &amp; Marketing</td>\n",
       "      <td>region_19</td>\n",
       "      <td>Bachelor's</td>\n",
       "      <td>m</td>\n",
       "      <td>sourcing</td>\n",
       "      <td>1</td>\n",
       "      <td>34</td>\n",
       "      <td>3</td>\n",
       "      <td>7</td>\n",
       "      <td>0</td>\n",
       "      <td>0</td>\n",
       "      <td>50</td>\n",
       "      <td>0</td>\n",
       "    </tr>\n",
       "    <tr>\n",
       "      <th>3</th>\n",
       "      <td>A_4</td>\n",
       "      <td>Sales &amp; Marketing</td>\n",
       "      <td>region_23</td>\n",
       "      <td>Bachelor's</td>\n",
       "      <td>m</td>\n",
       "      <td>other</td>\n",
       "      <td>2</td>\n",
       "      <td>39</td>\n",
       "      <td>1</td>\n",
       "      <td>10</td>\n",
       "      <td>0</td>\n",
       "      <td>0</td>\n",
       "      <td>50</td>\n",
       "      <td>0</td>\n",
       "    </tr>\n",
       "    <tr>\n",
       "      <th>4</th>\n",
       "      <td>A_5</td>\n",
       "      <td>Technology</td>\n",
       "      <td>region_26</td>\n",
       "      <td>Bachelor's</td>\n",
       "      <td>m</td>\n",
       "      <td>other</td>\n",
       "      <td>1</td>\n",
       "      <td>45</td>\n",
       "      <td>3</td>\n",
       "      <td>2</td>\n",
       "      <td>0</td>\n",
       "      <td>0</td>\n",
       "      <td>73</td>\n",
       "      <td>0</td>\n",
       "    </tr>\n",
       "  </tbody>\n",
       "</table>\n",
       "</div>"
      ],
      "text/plain": [
       "  employee_id         department     region         education gender  \\\n",
       "0         A_1  Sales & Marketing   region_7  Master's & above      f   \n",
       "1         A_2         Operations  region_22        Bachelor's      m   \n",
       "2         A_3  Sales & Marketing  region_19        Bachelor's      m   \n",
       "3         A_4  Sales & Marketing  region_23        Bachelor's      m   \n",
       "4         A_5         Technology  region_26        Bachelor's      m   \n",
       "\n",
       "  recruitment_channel  no_of_trainings  age  previous_year_rating  \\\n",
       "0            sourcing                1   35                     5   \n",
       "1               other                1   30                     5   \n",
       "2            sourcing                1   34                     3   \n",
       "3               other                2   39                     1   \n",
       "4               other                1   45                     3   \n",
       "\n",
       "   length_of_service  KPIs_met_>80%  awards_won?  avg_training_score  promoted  \n",
       "0                  8              1            0                  49         0  \n",
       "1                  4              0            0                  60         0  \n",
       "2                  7              0            0                  50         0  \n",
       "3                 10              0            0                  50         0  \n",
       "4                  2              0            0                  73         0  "
      ]
     },
     "execution_count": 3,
     "metadata": {},
     "output_type": "execute_result"
    }
   ],
   "source": [
    "# Reading the dataset\n",
    "data = pd.read_csv(\"HR_prediction.csv\")\n",
    "\n",
    "# Display the first few rows of the dataframe\n",
    "data.head()"
   ]
  },
  {
   "cell_type": "code",
   "execution_count": 4,
   "metadata": {
    "colab": {
     "base_uri": "https://localhost:8080/"
    },
    "id": "DXGyIjl52Xj3",
    "outputId": "ae4a3f83-b564-4b4e-ecdc-0d48a80a28ee"
   },
   "outputs": [
    {
     "name": "stdout",
     "output_type": "stream",
     "text": [
      "Shape of the dataset: (78284, 14)\n",
      "<class 'pandas.core.frame.DataFrame'>\n",
      "RangeIndex: 78284 entries, 0 to 78283\n",
      "Data columns (total 14 columns):\n",
      " #   Column                Non-Null Count  Dtype \n",
      "---  ------                --------------  ----- \n",
      " 0   employee_id           78284 non-null  object\n",
      " 1   department            78284 non-null  object\n",
      " 2   region                78284 non-null  object\n",
      " 3   education             78284 non-null  object\n",
      " 4   gender                78284 non-null  object\n",
      " 5   recruitment_channel   78284 non-null  object\n",
      " 6   no_of_trainings       78284 non-null  int64 \n",
      " 7   age                   78284 non-null  int64 \n",
      " 8   previous_year_rating  78284 non-null  int64 \n",
      " 9   length_of_service     78284 non-null  int64 \n",
      " 10  KPIs_met_>80%         78284 non-null  int64 \n",
      " 11  awards_won?           78284 non-null  int64 \n",
      " 12  avg_training_score    78284 non-null  int64 \n",
      " 13  promoted              78284 non-null  int64 \n",
      "dtypes: int64(8), object(6)\n",
      "memory usage: 8.4+ MB\n",
      "\n",
      "Data types and non-null counts:\n",
      " None\n",
      "\n",
      "Basic statistical details:\n",
      "        no_of_trainings           age  previous_year_rating  length_of_service  \\\n",
      "count     78284.000000  78284.000000          78284.000000       78284.000000   \n",
      "mean          1.233445     35.382390              3.582316           6.238018   \n",
      "std           0.571395      7.333879              1.225267           4.107659   \n",
      "min           1.000000     20.000000              1.000000           1.000000   \n",
      "25%           1.000000     30.000000              3.000000           3.000000   \n",
      "50%           1.000000     34.000000              4.000000           5.000000   \n",
      "75%           1.000000     39.000000              5.000000           8.000000   \n",
      "max          10.000000     60.000000              5.000000          37.000000   \n",
      "\n",
      "       KPIs_met_>80%   awards_won?  avg_training_score      promoted  \n",
      "count   78284.000000  78284.000000        78284.000000  78284.000000  \n",
      "mean        0.485629      0.059450           66.524488      0.432477  \n",
      "std         0.499797      0.236467           14.305182      0.495423  \n",
      "min         0.000000      0.000000           39.000000      0.000000  \n",
      "25%         0.000000      0.000000           54.000000      0.000000  \n",
      "50%         0.000000      0.000000           63.000000      0.000000  \n",
      "75%         1.000000      0.000000           80.000000      1.000000  \n",
      "max         1.000000      1.000000           99.000000      1.000000  \n"
     ]
    }
   ],
   "source": [
    "# General overview of the dataset\n",
    "print(\"Shape of the dataset:\", data.shape)\n",
    "print(\"\\nData types and non-null counts:\\n\", data.info())\n",
    "print(\"\\nBasic statistical details:\\n\", data.describe())"
   ]
  },
  {
   "cell_type": "markdown",
   "metadata": {
    "id": "xCAH-L6_9PEf"
   },
   "source": [
    "**3. Explore the data**"
   ]
  },
  {
   "cell_type": "code",
   "execution_count": 5,
   "metadata": {
    "colab": {
     "base_uri": "https://localhost:8080/",
     "height": 1000
    },
    "id": "mMDs5XPN2ZvN",
    "outputId": "ca34e89a-d85d-46ea-9ec6-db8f60bc1f88"
   },
   "outputs": [
    {
     "data": {
      "image/png": "[encoded data removed]",
      "text/plain": [
       "<Figure size 1200x600 with 1 Axes>"
      ]
     },
     "metadata": {},
     "output_type": "display_data"
    },
    {
     "data": {
      "image/png": "[encoded data removed]",
      "text/plain": [
       "<Figure size 1200x600 with 1 Axes>"
      ]
     },
     "metadata": {},
     "output_type": "display_data"
    },
    {
     "data": {
      "image/png": "[encoded data removed]",
      "text/plain": [
       "<Figure size 1200x600 with 1 Axes>"
      ]
     },
     "metadata": {},
     "output_type": "display_data"
    },
    {
     "data": {
      "image/png": "[encoded data removed]",
      "text/plain": [
       "<Figure size 1200x600 with 1 Axes>"
      ]
     },
     "metadata": {},
     "output_type": "display_data"
    }
   ],
   "source": [
    "# Setting up the aesthetic style for better visualization\n",
    "sns.set(style=\"whitegrid\")\n",
    "\n",
    "# Visualizing the distribution of 'department' related to 'promoted'\n",
    "plt.figure(figsize=(12, 6))\n",
    "sns.countplot(x='department', hue='promoted', data=data)\n",
    "plt.title('Promotion Distribution by Department')\n",
    "plt.xticks(rotation=45)\n",
    "plt.show()\n",
    "\n",
    "# Visualizing the impact of 'education' on promotion\n",
    "plt.figure(figsize=(12, 6))\n",
    "sns.countplot(x='education', hue='promoted', data=data)\n",
    "plt.title('Promotion Distribution by Education Level')\n",
    "plt.xticks(rotation=45)\n",
    "plt.show()\n",
    "\n",
    "# Boxplot for 'previous_year_rating' by 'promoted'\n",
    "plt.figure(figsize=(12, 6))\n",
    "sns.boxplot(x='promoted', y='previous_year_rating', data=data)\n",
    "plt.title('Previous Year Rating Distribution by Promotion Status')\n",
    "plt.show()\n",
    "\n",
    "# Bar chart for 'KPIs_met_>80%' related to 'promoted'\n",
    "plt.figure(figsize=(12, 6))\n",
    "sns.countplot(x='KPIs_met_>80%', hue='promoted', data=data)\n",
    "plt.title('Promotion Distribution by KPI Met >80%')\n",
    "plt.show()"
   ]
  },
  {
   "cell_type": "markdown",
   "metadata": {
    "id": "YBy8m_p0BnRP"
   },
   "source": [
    "**Justification for Chosen Visualizations**\n",
    "\n",
    "\n",
    "1. Promotion Distribution by Department (Bar Chart):\n",
    "Departments are a primary categorical variable that might influence an employee's chances of promotion based on departmental roles, responsibilities, and growth opportunities. A bar chart effectively shows the frequency distribution of categories and is ideal for comparing the count of promoted vs. non-promoted employees across different departments.\n",
    "\n",
    "\n",
    "\n",
    "2. Promotion Distribution by Education Level (Bar Chart):\n",
    "Education can play a crucial role in promotion eligibility and decisions. The bar chart here helps in comparing how different education levels correlate with promotion rates, providing insights into whether higher education leads to better promotional outcomes.\n",
    "\n",
    "\n",
    "\n",
    "3. Previous Year Rating Distribution by Promotion Status (Boxplot):\n",
    "This boxplot compares the distribution of the previous year's performance ratings for those who were promoted versus those who were not. The previous year's rating is a numeric variable, and a boxplot is suitable for showing medians, quartiles, and potential outliers, giving a quick overview of central tendency and spread.\n",
    "\n",
    "\n",
    "\n",
    "4. Promotion Distribution by KPI Met >80% (Bar Chart):\n",
    "Achieving key performance indicators (KPIs) significantly impacts performance assessments. The bar chart visualizes how meeting more than 80% of KPIs might influence promotion decisions, which is critical for understanding performance-related advancements.\n"
   ]
  },
  {
   "cell_type": "markdown",
   "metadata": {
    "id": "4HbFJk0XB9XZ"
   },
   "source": [
    "**Interpretation of Chart Outputs**\n",
    "\n",
    "1. Promotion Distribution by Department:\n",
    "\n",
    "Interpretation: The chart shows significant variation in promotion rates across departments. Sales & Marketing and Operations have the highest number of employees but do not necessarily show a proportionately higher promotion rate, suggesting that being in a larger department doesn't guarantee a higher likelihood of promotion. Comparatively, smaller departments like R&D and Procurement show a higher ratio of promotions, which might indicate specialized roles or effective performance management in these areas.\n",
    "\n",
    "2. Promotion Distribution by Education Level:\n",
    "\n",
    "Interpretation: Employees with a Master's degree or higher are promoted almost as frequently as those with Bachelor's degrees, despite there being fewer employees with higher degrees. This suggests that higher educational qualifications may enhance an employee's promotion prospects, supporting the idea that higher education is valued in the organization for advancement.\n",
    "\n",
    "3. Previous Year Rating Distribution by Promotion Status:\n",
    "\n",
    "Interpretation: Both promoted and non-promoted groups have similar medians close to a rating of 4, but the interquartile range for promoted employees is tighter and higher. This implies that consistently high performers are more likely to be promoted, though a good rating does not exclusively guarantee promotion.\n",
    "\n",
    "4. Promotion Distribution by KPI Met >80%:\n",
    "\n",
    "Interpretation: There's a clear trend that employees who meet more than 80% of their KPIs have a much higher chance of being promoted than those who do not. This emphasizes the importance of meeting performance benchmarks for career progression within the company."
   ]
  },
  {
   "cell_type": "markdown",
   "metadata": {
    "id": "TBQhTpnE9WjZ"
   },
   "source": [
    "**4. Data preprocessing**"
   ]
  },
  {
   "cell_type": "code",
   "execution_count": 6,
   "metadata": {
    "colab": {
     "base_uri": "https://localhost:8080/"
    },
    "id": "uhilzqyZ2ky8",
    "outputId": "cd9147f4-10fc-46f0-f9e0-9db5f1390786"
   },
   "outputs": [
    {
     "name": "stdout",
     "output_type": "stream",
     "text": [
      "employee_id             0\n",
      "department              0\n",
      "region                  0\n",
      "education               0\n",
      "gender                  0\n",
      "recruitment_channel     0\n",
      "no_of_trainings         0\n",
      "age                     0\n",
      "previous_year_rating    0\n",
      "length_of_service       0\n",
      "KPIs_met_>80%           0\n",
      "awards_won?             0\n",
      "avg_training_score      0\n",
      "promoted                0\n",
      "dtype: int64\n",
      "Shape of the dataset after preprocessing: (78284, 55)\n"
     ]
    },
    {
     "name": "stderr",
     "output_type": "stream",
     "text": [
      "/var/folders/61/br8wr2d92qq0jbw44qm3yc3h0000gn/T/ipykernel_62117/3054183481.py:8: FutureWarning: A value is trying to be set on a copy of a DataFrame or Series through chained assignment using an inplace method.\n",
      "The behavior will change in pandas 3.0. This inplace method will never work because the intermediate object on which we are setting values always behaves as a copy.\n",
      "\n",
      "For example, when doing 'df[col].method(value, inplace=True)', try using 'df.method({col: value}, inplace=True)' or df[col] = df[col].method(value) instead, to perform the operation inplace on the original object.\n",
      "\n",
      "\n",
      "  data['education'].fillna(data['education'].mode()[0], inplace=True)\n"
     ]
    }
   ],
   "source": [
    "# Check for missing values\n",
    "print(data.isnull().sum())\n",
    "\n",
    "# Drop duplicates\n",
    "data = data.drop_duplicates()\n",
    "\n",
    "# Handling missing values (Example: fill missing 'education' with the mode)\n",
    "data['education'].fillna(data['education'].mode()[0], inplace=True)\n",
    "\n",
    "# One-hot encode categorical variables using pandas\n",
    "categorical_features = ['department', 'region', 'education', 'gender', 'recruitment_channel']\n",
    "data = pd.get_dummies(data, columns=categorical_features, drop_first=True)\n",
    "\n",
    "# Example of handling skewed data (log transformation)\n",
    "# data['some_skewed_feature'] = np.log1p(data['some_skewed_feature'])\n",
    "\n",
    "# Display the shape of the dataset after preprocessing\n",
    "print(\"Shape of the dataset after preprocessing:\", data.shape)"
   ]
  },
  {
   "cell_type": "markdown",
   "metadata": {
    "id": "yrEkMx5L9ttr"
   },
   "source": [
    "**5. Model building**"
   ]
  },
  {
   "cell_type": "code",
   "execution_count": 7,
   "metadata": {
    "colab": {
     "base_uri": "https://localhost:8080/"
    },
    "id": "m0czJ31N2ocj",
    "outputId": "3276a46b-1be2-46a0-807e-6afc571397f6"
   },
   "outputs": [
    {
     "name": "stdout",
     "output_type": "stream",
     "text": [
      "Logistic Regression Performance:\n",
      "Accuracy: 0.67\n",
      "Precision: 0.64\n",
      "Recall: 0.56\n",
      "F1 Score: 0.60\n",
      "              precision    recall  f1-score   support\n",
      "\n",
      "           0       0.69      0.76      0.72      8882\n",
      "           1       0.64      0.56      0.60      6775\n",
      "\n",
      "    accuracy                           0.67     15657\n",
      "   macro avg       0.67      0.66      0.66     15657\n",
      "weighted avg       0.67      0.67      0.67     15657\n",
      "\n",
      "Decision Tree Performance:\n",
      "Accuracy: 0.91\n",
      "Precision: 0.84\n",
      "Recall: 0.98\n",
      "F1 Score: 0.90\n",
      "              precision    recall  f1-score   support\n",
      "\n",
      "           0       0.98      0.86      0.92      8882\n",
      "           1       0.84      0.98      0.90      6775\n",
      "\n",
      "    accuracy                           0.91     15657\n",
      "   macro avg       0.91      0.92      0.91     15657\n",
      "weighted avg       0.92      0.91      0.91     15657\n",
      "\n",
      "KNN Performance:\n",
      "Accuracy: 0.85\n",
      "Precision: 0.76\n",
      "Recall: 0.97\n",
      "F1 Score: 0.85\n",
      "              precision    recall  f1-score   support\n",
      "\n",
      "           0       0.97      0.76      0.85      8882\n",
      "           1       0.76      0.97      0.85      6775\n",
      "\n",
      "    accuracy                           0.85     15657\n",
      "   macro avg       0.86      0.87      0.85     15657\n",
      "weighted avg       0.88      0.85      0.85     15657\n",
      "\n"
     ]
    },
    {
     "data": {
      "text/plain": [
       "{'Accuracy': 0.8513125119754742,\n",
       " 'Precision': 0.7554279149913843,\n",
       " 'Recall': 0.9706273062730627,\n",
       " 'F1 Score': 0.8496124031007752}"
      ]
     },
     "execution_count": 7,
     "metadata": {},
     "output_type": "execute_result"
    }
   ],
   "source": [
    "from sklearn.model_selection import train_test_split, GridSearchCV\n",
    "from sklearn.preprocessing import StandardScaler\n",
    "from sklearn.linear_model import LogisticRegression\n",
    "from sklearn.tree import DecisionTreeClassifier\n",
    "from sklearn.neighbors import KNeighborsClassifier\n",
    "from sklearn.metrics import accuracy_score, precision_score, recall_score, f1_score, classification_report\n",
    "from sklearn.pipeline import Pipeline\n",
    "from sklearn.compose import ColumnTransformer\n",
    "\n",
    "# Dropping the 'employee_id' column and splitting the dataset\n",
    "X = data.drop(['promoted', 'employee_id'], axis=1)  # Exclude 'employee_id'\n",
    "y = data['promoted']\n",
    "X_train, X_test, y_train, y_test = train_test_split(X, y, test_size=0.2, random_state=42)\n",
    "\n",
    "# Standardizing numeric features\n",
    "numeric_features = ['no_of_trainings', 'age', 'previous_year_rating', 'length_of_service', 'avg_training_score']\n",
    "numeric_transformer = Pipeline(steps=[\n",
    "    ('scaler', StandardScaler())\n",
    "])\n",
    "\n",
    "# Applying ColumnTransformer to numeric fields\n",
    "preprocessor = ColumnTransformer(\n",
    "    transformers=[\n",
    "        ('num', numeric_transformer, numeric_features)\n",
    "    ])\n",
    "\n",
    "# Model pipelines\n",
    "logreg_pipeline = Pipeline(steps=[('preprocessor', preprocessor),\n",
    "                                  ('classifier', LogisticRegression(random_state=42))])\n",
    "\n",
    "dtree_pipeline = Pipeline(steps=[('preprocessor', preprocessor),\n",
    "                                 ('classifier', DecisionTreeClassifier(random_state=42))])\n",
    "\n",
    "knn_pipeline = Pipeline(steps=[('preprocessor', preprocessor),\n",
    "                               ('classifier', KNeighborsClassifier())])\n",
    "\n",
    "# Fit models\n",
    "logreg_pipeline.fit(X_train, y_train)\n",
    "dtree_pipeline.fit(X_train, y_train)\n",
    "knn_pipeline.fit(X_train, y_train)\n",
    "\n",
    "# Evaluate models\n",
    "def evaluate_model(model, X_test, y_test):\n",
    "    y_pred = model.predict(X_test)\n",
    "    accuracy = accuracy_score(y_test, y_pred)\n",
    "    precision = precision_score(y_test, y_pred)\n",
    "    recall = recall_score(y_test, y_pred)\n",
    "    f1 = f1_score(y_test, y_pred)\n",
    "    print(f\"Accuracy: {accuracy_score(y_test, y_pred):.2f}\")\n",
    "    print(f\"Precision: {precision_score(y_test, y_pred):.2f}\")\n",
    "    print(f\"Recall: {recall_score(y_test, y_pred):.2f}\")\n",
    "    print(f\"F1 Score: {f1_score(y_test, y_pred):.2f}\")\n",
    "    print(classification_report(y_test, y_pred))\n",
    "    return {'Accuracy': accuracy, 'Precision': precision, 'Recall': recall, 'F1 Score': f1}\n",
    "\n",
    "print(\"Logistic Regression Performance:\")\n",
    "evaluate_model(logreg_pipeline, X_test, y_test)\n",
    "\n",
    "print(\"Decision Tree Performance:\")\n",
    "evaluate_model(dtree_pipeline, X_test, y_test)\n",
    "\n",
    "print(\"KNN Performance:\")\n",
    "evaluate_model(knn_pipeline, X_test, y_test)"
   ]
  },
  {
   "cell_type": "markdown",
   "metadata": {
    "id": "KhqrSD_1_LQc"
   },
   "source": [
    "Perform hyperparameter tuning using GridSearchCV to find the best hyperparameters for each model."
   ]
  },
  {
   "cell_type": "code",
   "execution_count": 8,
   "metadata": {
    "colab": {
     "base_uri": "https://localhost:8080/"
    },
    "id": "FNqw-bZK2tyS",
    "outputId": "a7146377-d75d-4be9-e4f2-c69f220ef5cb"
   },
   "outputs": [
    {
     "name": "stdout",
     "output_type": "stream",
     "text": [
      "Fitting 5 folds for each of 10 candidates, totalling 50 fits\n",
      "Best parameters for Logistic Regression: {'classifier__C': 0.01, 'classifier__penalty': 'l1', 'classifier__solver': 'liblinear'}\n",
      "Fitting 5 folds for each of 36 candidates, totalling 180 fits\n",
      "Best parameters for Decision Tree: {'classifier__max_depth': 10, 'classifier__min_samples_leaf': 1, 'classifier__min_samples_split': 2}\n",
      "Fitting 5 folds for each of 16 candidates, totalling 80 fits\n",
      "Best parameters for KNN: {'classifier__metric': 'manhattan', 'classifier__n_neighbors': 3, 'classifier__weights': 'distance'}\n",
      "Untuned Logistic Regression Performance:\n",
      "Accuracy: 0.67\n",
      "Precision: 0.64\n",
      "Recall: 0.56\n",
      "F1 Score: 0.60\n",
      "              precision    recall  f1-score   support\n",
      "\n",
      "           0       0.69      0.76      0.72      8882\n",
      "           1       0.64      0.56      0.60      6775\n",
      "\n",
      "    accuracy                           0.67     15657\n",
      "   macro avg       0.67      0.66      0.66     15657\n",
      "weighted avg       0.67      0.67      0.67     15657\n",
      "\n",
      "Untuned Decision Tree Performance:\n",
      "Accuracy: 0.91\n",
      "Precision: 0.84\n",
      "Recall: 0.98\n",
      "F1 Score: 0.90\n",
      "              precision    recall  f1-score   support\n",
      "\n",
      "           0       0.98      0.86      0.92      8882\n",
      "           1       0.84      0.98      0.90      6775\n",
      "\n",
      "    accuracy                           0.91     15657\n",
      "   macro avg       0.91      0.92      0.91     15657\n",
      "weighted avg       0.92      0.91      0.91     15657\n",
      "\n",
      "Untuned KNN Performance:\n",
      "Accuracy: 0.85\n",
      "Precision: 0.76\n",
      "Recall: 0.97\n",
      "F1 Score: 0.85\n",
      "              precision    recall  f1-score   support\n",
      "\n",
      "           0       0.97      0.76      0.85      8882\n",
      "           1       0.76      0.97      0.85      6775\n",
      "\n",
      "    accuracy                           0.85     15657\n",
      "   macro avg       0.86      0.87      0.85     15657\n",
      "weighted avg       0.88      0.85      0.85     15657\n",
      "\n",
      "Tuned Logistic Regression Performance:\n",
      "Accuracy: 0.67\n",
      "Precision: 0.64\n",
      "Recall: 0.56\n",
      "F1 Score: 0.60\n",
      "              precision    recall  f1-score   support\n",
      "\n",
      "           0       0.69      0.76      0.72      8882\n",
      "           1       0.64      0.56      0.60      6775\n",
      "\n",
      "    accuracy                           0.67     15657\n",
      "   macro avg       0.67      0.66      0.66     15657\n",
      "weighted avg       0.67      0.67      0.67     15657\n",
      "\n",
      "Tuned Decision Tree Performance:\n",
      "Accuracy: 0.70\n",
      "Precision: 0.71\n",
      "Recall: 0.52\n",
      "F1 Score: 0.60\n",
      "              precision    recall  f1-score   support\n",
      "\n",
      "           0       0.70      0.84      0.76      8882\n",
      "           1       0.71      0.52      0.60      6775\n",
      "\n",
      "    accuracy                           0.70     15657\n",
      "   macro avg       0.70      0.68      0.68     15657\n",
      "weighted avg       0.70      0.70      0.69     15657\n",
      "\n",
      "Tuned KNN Performance:\n",
      "Accuracy: 0.89\n",
      "Precision: 0.82\n",
      "Recall: 0.95\n",
      "F1 Score: 0.88\n",
      "              precision    recall  f1-score   support\n",
      "\n",
      "           0       0.96      0.84      0.90      8882\n",
      "           1       0.82      0.95      0.88      6775\n",
      "\n",
      "    accuracy                           0.89     15657\n",
      "   macro avg       0.89      0.90      0.89     15657\n",
      "weighted avg       0.90      0.89      0.89     15657\n",
      "\n"
     ]
    },
    {
     "data": {
      "text/plain": [
       "{'Accuracy': 0.8900172446828895,\n",
       " 'Precision': 0.8227928963843107,\n",
       " 'Recall': 0.9505535055350554,\n",
       " 'F1 Score': 0.8820709491850431}"
      ]
     },
     "execution_count": 8,
     "metadata": {},
     "output_type": "execute_result"
    }
   ],
   "source": [
    "from sklearn.model_selection import GridSearchCV\n",
    "\n",
    "# Hyperparameter tuning setups for all models\n",
    "logreg_params = {\n",
    "    'classifier__C': [0.01, 0.1, 1, 10, 100],\n",
    "    'classifier__penalty': ['l1', 'l2'],\n",
    "    'classifier__solver': ['liblinear']\n",
    "}\n",
    "\n",
    "dtree_params = {\n",
    "    'classifier__max_depth': [3, 5, 7, 10],\n",
    "    'classifier__min_samples_split': [2, 5, 10],\n",
    "    'classifier__min_samples_leaf': [1, 2, 4]\n",
    "}\n",
    "\n",
    "knn_params = {\n",
    "    'classifier__n_neighbors': [3, 5, 7, 10],\n",
    "    'classifier__weights': ['uniform', 'distance'],\n",
    "    'classifier__metric': ['euclidean', 'manhattan']\n",
    "}\n",
    "\n",
    "# GridSearchCV for Logistic Regression\n",
    "logreg_grid = GridSearchCV(logreg_pipeline, logreg_params, cv=5, scoring='accuracy', verbose=1)\n",
    "logreg_grid.fit(X_train, y_train)\n",
    "print(\"Best parameters for Logistic Regression:\", logreg_grid.best_params_)\n",
    "\n",
    "# GridSearchCV for Decision Tree\n",
    "dtree_grid = GridSearchCV(dtree_pipeline, dtree_params, cv=5, scoring='accuracy', verbose=1)\n",
    "dtree_grid.fit(X_train, y_train)\n",
    "print(\"Best parameters for Decision Tree:\", dtree_grid.best_params_)\n",
    "\n",
    "# GridSearchCV for KNN\n",
    "knn_grid = GridSearchCV(knn_pipeline, knn_params, cv=5, scoring='accuracy', verbose=1, n_jobs=-1)\n",
    "knn_grid.fit(X_train, y_train)\n",
    "print(\"Best parameters for KNN:\", knn_grid.best_params_)\n",
    "\n",
    "# Evaluate untuned models\n",
    "print(\"Untuned Logistic Regression Performance:\")\n",
    "evaluate_model(logreg_pipeline, X_test, y_test)\n",
    "print(\"Untuned Decision Tree Performance:\")\n",
    "evaluate_model(dtree_pipeline, X_test, y_test)\n",
    "print(\"Untuned KNN Performance:\")\n",
    "evaluate_model(knn_pipeline, X_test, y_test)\n",
    "\n",
    "# Evaluate tuned models\n",
    "print(\"Tuned Logistic Regression Performance:\")\n",
    "evaluate_model(logreg_grid.best_estimator_, X_test, y_test)\n",
    "print(\"Tuned Decision Tree Performance:\")\n",
    "evaluate_model(dtree_grid.best_estimator_, X_test, y_test)\n",
    "print(\"Tuned KNN Performance:\")\n",
    "evaluate_model(knn_grid.best_estimator_, X_test, y_test)"
   ]
  },
  {
   "cell_type": "markdown",
   "metadata": {
    "id": "qibMSHzf_dmq"
   },
   "source": [
    "**6. Justifing the choice of model performance metric used**"
   ]
  },
  {
   "cell_type": "markdown",
   "metadata": {
    "id": "71J-loKK_hME"
   },
   "source": [
    "**Justification**\n",
    "\n",
    "Logistic Regression:\n",
    "\n",
    "Metrics Chosen: Accuracy, Precision, Recall, F1 Score.\n",
    "\n",
    "Justification:\n",
    "Accuracy is chosen to provide a baseline measure of effectiveness across all predictions, beneficial for evaluating overall model performance in balanced datasets.\n",
    "Precision is critical for Logistic Regression, especially in contexts where the consequence of incorrectly predicting an employee will be promoted (false positive) could lead to inefficiency and dissatisfaction, impacting team dynamics and resource allocation.\n",
    "Recall is also vital because it's important that the model identifies as many true promotable candidates as possible to ensure deserving employees are not overlooked.\n",
    "F1 Score is used to balance precision and recall, which is particularly useful when there is a trade-off between incorrectly predicting promotions and missing out on actual promotable candidates.\n",
    "\n",
    "\n",
    "Decision Tree:\n",
    "\n",
    "Metrics Chosen: Accuracy, Precision, Recall, F1 Score.\n",
    "\n",
    "Justification:\n",
    "Accuracy is essential to evaluate the overall performance and effectiveness of the Decision Tree in making binary classifications about promotions.\n",
    "Precision is prioritized to minimize false positives—erroneously predicting promotions can misguide HR decisions and affect the credibility of the system.\n",
    "Recall ensures that the model captures a high percentage of actual promotable cases, crucial for talent retention and motivation within the company.\n",
    "F1 Score balances precision and recall, beneficial in maintaining a harmonious balance between identifying true promotable employees and not misclassifying non-promotable employees as promotable.\n",
    "\n",
    "\n",
    "K-Nearest Neighbors (KNN):\n",
    "\n",
    "Metrics Chosen: Accuracy, Precision, Recall, F1 Score.\n",
    "\n",
    "Justification:\n",
    "Accuracy gives a clear measure of how often the KNN model is correct in the entire dataset, which helps in assessing the general effectiveness of the model.\n",
    "Precision is significant to ensure that the promotions predicted by the KNN model are actually accurate, avoiding the cost implications of wrongful promotions.\n",
    "Recall is imperative to ensure that the model identifies most truly promotable employees, minimizing the risk of demotivation among deserving employees due to non-recognition.\n",
    "F1 Score is particularly useful in scenarios where both false positives and false negatives have significant implications. It helps in maintaining a balance, ensuring the model is neither too strict nor too lenient in predicting promotions.\n"
   ]
  },
  {
   "cell_type": "markdown",
   "metadata": {
    "id": "XPq0PnkY_Tk-"
   },
   "source": [
    "**7. Using Pipeline and Column Transformer for data preprocessing and model fitting**"
   ]
  },
  {
   "cell_type": "code",
   "execution_count": 9,
   "metadata": {
    "colab": {
     "base_uri": "https://localhost:8080/"
    },
    "id": "FmpFvvCh2__N",
    "outputId": "5e904d73-000a-4e96-d845-8837950f1123"
   },
   "outputs": [
    {
     "name": "stdout",
     "output_type": "stream",
     "text": [
      "Logistic Regression Performance:\n",
      "Accuracy: 0.78\n",
      "Precision: 0.75\n",
      "Recall: 0.75\n",
      "F1 Score: 0.75\n",
      "              precision    recall  f1-score   support\n",
      "\n",
      "           0       0.81      0.81      0.81      8882\n",
      "           1       0.75      0.75      0.75      6775\n",
      "\n",
      "    accuracy                           0.78     15657\n",
      "   macro avg       0.78      0.78      0.78     15657\n",
      "weighted avg       0.78      0.78      0.78     15657\n",
      "\n",
      "Decision Tree Performance:\n",
      "Accuracy: 0.96\n",
      "Precision: 0.92\n",
      "Recall: 1.00\n",
      "F1 Score: 0.96\n",
      "              precision    recall  f1-score   support\n",
      "\n",
      "           0       1.00      0.93      0.97      8882\n",
      "           1       0.92      1.00      0.96      6775\n",
      "\n",
      "    accuracy                           0.96     15657\n",
      "   macro avg       0.96      0.97      0.96     15657\n",
      "weighted avg       0.97      0.96      0.96     15657\n",
      "\n",
      "KNN Performance:\n",
      "Accuracy: 0.91\n",
      "Precision: 0.82\n",
      "Recall: 1.00\n",
      "F1 Score: 0.90\n",
      "              precision    recall  f1-score   support\n",
      "\n",
      "           0       1.00      0.84      0.91      8882\n",
      "           1       0.82      1.00      0.90      6775\n",
      "\n",
      "    accuracy                           0.91     15657\n",
      "   macro avg       0.91      0.92      0.91     15657\n",
      "weighted avg       0.92      0.91      0.91     15657\n",
      "\n"
     ]
    },
    {
     "data": {
      "text/plain": [
       "{'Accuracy': 0.9066232356134636,\n",
       " 'Precision': 0.8235294117647058,\n",
       " 'Recall': 0.9980811808118081,\n",
       " 'F1 Score': 0.9024422794608301}"
      ]
     },
     "execution_count": 9,
     "metadata": {},
     "output_type": "execute_result"
    }
   ],
   "source": [
    "from sklearn.compose import ColumnTransformer\n",
    "from sklearn.pipeline import Pipeline\n",
    "from sklearn.preprocessing import StandardScaler\n",
    "\n",
    "# Standardizing numeric features\n",
    "numeric_features = ['no_of_trainings', 'age', 'previous_year_rating', 'length_of_service', 'avg_training_score']\n",
    "numeric_transformer = Pipeline(steps=[\n",
    "    ('scaler', StandardScaler())\n",
    "])\n",
    "\n",
    "# Applying ColumnTransformer to numeric fields\n",
    "preprocessor = ColumnTransformer(\n",
    "    transformers=[\n",
    "        ('num', numeric_transformer, numeric_features)\n",
    "    ], remainder='passthrough')\n",
    "\n",
    "# Model pipelines (with hyperparameters)\n",
    "logreg_pipeline = Pipeline(steps=[('preprocessor', preprocessor),\n",
    "                                  ('classifier', LogisticRegression(random_state=42, max_iter=1000, solver='saga'))])\n",
    "dtree_pipeline = Pipeline(steps=[('preprocessor', preprocessor),\n",
    "                                 ('classifier', DecisionTreeClassifier(random_state=42))])\n",
    "knn_pipeline = Pipeline(steps=[('preprocessor', preprocessor),\n",
    "                               ('classifier', KNeighborsClassifier())])\n",
    "\n",
    "# Fit models\n",
    "logreg_pipeline.fit(X_train, y_train)\n",
    "dtree_pipeline.fit(X_train, y_train)\n",
    "knn_pipeline.fit(X_train, y_train)\n",
    "\n",
    "# Evaluate models\n",
    "print(\"Logistic Regression Performance:\")\n",
    "evaluate_model(logreg_pipeline, X_test, y_test)\n",
    "print(\"Decision Tree Performance:\")\n",
    "evaluate_model(dtree_pipeline, X_test, y_test)\n",
    "print(\"KNN Performance:\")\n",
    "evaluate_model(knn_pipeline, X_test, y_test)\n"
   ]
  },
  {
   "cell_type": "markdown",
   "metadata": {
    "id": "oCrwmLUG-uaq"
   },
   "source": [
    "**8. Reporting the performance of the best model on test data**"
   ]
  },
  {
   "cell_type": "code",
   "execution_count": 10,
   "metadata": {
    "colab": {
     "base_uri": "https://localhost:8080/"
    },
    "id": "-0qs4sw737Zo",
    "outputId": "f8bc7801-7368-4b29-e16b-2001fffc3cce"
   },
   "outputs": [
    {
     "name": "stdout",
     "output_type": "stream",
     "text": [
      "Accuracy: 0.67\n",
      "Precision: 0.64\n",
      "Recall: 0.56\n",
      "F1 Score: 0.60\n",
      "              precision    recall  f1-score   support\n",
      "\n",
      "           0       0.69      0.76      0.72      8882\n",
      "           1       0.64      0.56      0.60      6775\n",
      "\n",
      "    accuracy                           0.67     15657\n",
      "   macro avg       0.67      0.66      0.66     15657\n",
      "weighted avg       0.67      0.67      0.67     15657\n",
      "\n",
      "Accuracy: 0.70\n",
      "Precision: 0.71\n",
      "Recall: 0.52\n",
      "F1 Score: 0.60\n",
      "              precision    recall  f1-score   support\n",
      "\n",
      "           0       0.70      0.84      0.76      8882\n",
      "           1       0.71      0.52      0.60      6775\n",
      "\n",
      "    accuracy                           0.70     15657\n",
      "   macro avg       0.70      0.68      0.68     15657\n",
      "weighted avg       0.70      0.70      0.69     15657\n",
      "\n",
      "Accuracy: 0.89\n",
      "Precision: 0.82\n",
      "Recall: 0.95\n",
      "F1 Score: 0.88\n",
      "              precision    recall  f1-score   support\n",
      "\n",
      "           0       0.96      0.84      0.90      8882\n",
      "           1       0.82      0.95      0.88      6775\n",
      "\n",
      "    accuracy                           0.89     15657\n",
      "   macro avg       0.89      0.90      0.89     15657\n",
      "weighted avg       0.90      0.89      0.89     15657\n",
      "\n",
      "Model Performances:\n",
      "Logistic Regression:\n",
      "Accuracy: 0.67\n",
      "Precision: 0.64\n",
      "Recall: 0.56\n",
      "F1 Score: 0.60\n",
      "\n",
      "Decision Tree:\n",
      "Accuracy: 0.70\n",
      "Precision: 0.71\n",
      "Recall: 0.52\n",
      "F1 Score: 0.60\n",
      "\n",
      "KNN:\n",
      "Accuracy: 0.89\n",
      "Precision: 0.82\n",
      "Recall: 0.95\n",
      "F1 Score: 0.88\n",
      "\n",
      "Recommendations:\n",
      "Based on the models' performances, Logistic Regression performs the best in terms of accuracy and F1 score.\n",
      "However, Decision Tree provides valuable insights into feature importance, which can be used for decision-making.\n",
      "Consider a balanced approach, using Logistic Regression for predictions and Decision Tree for understanding influential factors.\n"
     ]
    }
   ],
   "source": [
    "# Summarize model performances\n",
    "model_results = {\n",
    "    'Logistic Regression': evaluate_model(logreg_grid.best_estimator_, X_test, y_test),\n",
    "    'Decision Tree': evaluate_model(dtree_grid.best_estimator_, X_test, y_test),\n",
    "    'KNN': evaluate_model(knn_grid.best_estimator_, X_test, y_test)\n",
    "}\n",
    "\n",
    "# Print model performances\n",
    "print(\"Model Performances:\")\n",
    "for model_name, metrics in model_results.items():\n",
    "    print(f\"{model_name}:\")\n",
    "    for metric, value in metrics.items():\n",
    "        print(f\"{metric}: {value:.2f}\")\n",
    "    print()\n",
    "\n",
    "# Recommendations based on insights\n",
    "print(\"Recommendations:\")\n",
    "# Provide insights and recommendations based on model performances and analysis\n",
    "# For example:\n",
    "print(\"Based on the models' performances, Logistic Regression performs the best in terms of accuracy and F1 score.\")\n",
    "print(\"However, Decision Tree provides valuable insights into feature importance, which can be used for decision-making.\")\n",
    "print(\"Consider a balanced approach, using Logistic Regression for predictions and Decision Tree for understanding influential factors.\")\n"
   ]
  },
  {
   "cell_type": "markdown",
   "metadata": {
    "id": "v2Dl1U3-JGaY"
   },
   "source": [
    "Based on the performance metrics for each model:\n",
    "\n",
    "\n",
    "Logistic Regression has moderate accuracy (67%) and F1 score (60%), showing balanced but not outstanding performance.\n",
    "\n",
    "Decision Tree shows slightly better accuracy (70%) but lower recall (52%), indicating it misses a significant number of promotable cases despite slightly higher precision.\n",
    "\n",
    "K-Nearest Neighbors (KNN) outperforms the others significantly with an accuracy of 89% and F1 score of 88%. It excels in both identifying promotable employees correctly (high precision) and capturing almost all promotable employees (high recall).\n",
    "\n",
    "\n",
    "Conclusion and Recommendation:\n",
    "\n",
    "The K-Nearest Neighbors (KNN) model is the best choice for predicting employee promotions due to its superior accuracy, precision, recall, and F1 score. It ensures that most promotable employees are accurately identified and minimally overlooks potential candidates, crucial for effective HR management. Implement KNN for reliable promotion predictions and use insights from the Decision Tree model to understand feature influences. This approach offers both predictive power and actionable insights for refining HR practices."
   ]
  }
 ],
 "metadata": {
  "colab": {
   "provenance": []
  },
  "kernelspec": {
   "display_name": "Python 3 (ipykernel)",
   "language": "python",
   "name": "python3"
  },
  "language_info": {
   "codemirror_mode": {
    "name": "ipython",
    "version": 3
   },
   "file_extension": ".py",
   "mimetype": "text/x-python",
   "name": "python",
   "nbconvert_exporter": "python",
   "pygments_lexer": "ipython3",
   "version": "3.12.4"
  }
 },
 "nbformat": 4,
 "nbformat_minor": 4
}
